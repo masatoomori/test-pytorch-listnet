{
 "cells": [
  {
   "cell_type": "code",
   "execution_count": null,
   "metadata": {},
   "outputs": [],
   "source": [
    "import torch\n",
    "import torch.optim as optim"
   ]
  },
  {
   "cell_type": "code",
   "execution_count": null,
   "metadata": {},
   "outputs": [],
   "source": [
    "%load_ext autoreload\n",
    "%autoreload 2"
   ]
  },
  {
   "cell_type": "code",
   "execution_count": null,
   "metadata": {},
   "outputs": [],
   "source": [
    "%aimport listnet"
   ]
  },
  {
   "cell_type": "code",
   "execution_count": null,
   "metadata": {},
   "outputs": [],
   "source": [
    "n_train = 500\n",
    "n_valid = 100\n",
    "D = 50\n",
    "n_epochs = 10\n",
    "batch_size = 16\n",
    "\n",
    "X_train, X_valid, ys_train, ys_valid = listnet.make_dataset(n_train, n_valid, D)"
   ]
  },
  {
   "cell_type": "code",
   "execution_count": null,
   "metadata": {},
   "outputs": [],
   "source": [
    "X_train.shape"
   ]
  },
  {
   "cell_type": "code",
   "execution_count": null,
   "metadata": {},
   "outputs": [],
   "source": [
    "ys_train.shape"
   ]
  },
  {
   "cell_type": "code",
   "execution_count": null,
   "metadata": {},
   "outputs": [],
   "source": [
    "# モデルを宣言\n",
    "net = listnet.Net(D)\n",
    "optimizer = optim.Adam(net.parameters())"
   ]
  },
  {
   "cell_type": "code",
   "execution_count": null,
   "metadata": {},
   "outputs": [],
   "source": [
    "for epoch in range(n_epochs):\n",
    "\t# ランダムに学習データを並べ替える\n",
    "\tidx = torch.randperm(n_train)\n",
    "\tX_train = X_train[idx]\n",
    "\tys_train = ys_train[idx]\n",
    "\n",
    "\tcur_batch = 0\n",
    "\tfor it in range(n_train // batch_size):\n",
    "\t\t# バッチをクエリに対応させる\n",
    "\t\tbatch_X = X_train[cur_batch: cur_batch + batch_size]\n",
    "\t\tbatch_ys = ys_train[cur_batch: cur_batch + batch_size]\n",
    "\t\tcur_batch += batch_size\n",
    "\n",
    "\t\toptimizer.zero_grad()\n",
    "\t\tif len(batch_X) > 0:\n",
    "\t\t\t# 現在のモデルの重みで予測を行う\n",
    "\t\t\tbatch_pred = net(batch_X)\n",
    "\n",
    "\t\t\t# 本バッチの予測と正解を比較して損失を計算\n",
    "\t\t\tbatch_loss = listnet.listnet_loss(batch_ys, batch_pred)\n",
    "\n",
    "\t\t\t# requires_grad=True とした変数に対して勾配を計算\n",
    "\t\t\tbatch_loss.backward(retain_graph=True)\n",
    "\n",
    "\t\t\t# モデルの重みを更新する\n",
    "\t\t\toptimizer.step()\n",
    "\n",
    "\twith torch.no_grad():\t\t# メモリ消費を抑えるために勾配計算を行わない\n",
    "\t\tvalid_pred = net(X_valid)\n",
    "\t\tvalid_swapped = listnet.swapped_pairs(valid_pred, ys_valid)\n",
    "\t\tndcg_score = listnet.ndcg(ys_valid, valid_pred).item()\t\t# Pythonの型に合わせるためにitem()を使う\n",
    "\t\tprint('epoch: {}, swapped: {}, ndcg: {}'.format(epoch, valid_swapped, ndcg_score))"
   ]
  }
 ],
 "metadata": {
  "interpreter": {
   "hash": "0cfa50c7ceedcf57a8ae8eab48f43fdf61873dcf6f84a7d96974d9e4b62e3da7"
  },
  "kernelspec": {
   "display_name": "Python 3.9.5 ('venv': venv)",
   "language": "python",
   "name": "python3"
  },
  "language_info": {
   "codemirror_mode": {
    "name": "ipython",
    "version": 3
   },
   "file_extension": ".py",
   "mimetype": "text/x-python",
   "name": "python",
   "nbconvert_exporter": "python",
   "pygments_lexer": "ipython3",
   "version": "3.9.5"
  },
  "orig_nbformat": 4
 },
 "nbformat": 4,
 "nbformat_minor": 2
}
